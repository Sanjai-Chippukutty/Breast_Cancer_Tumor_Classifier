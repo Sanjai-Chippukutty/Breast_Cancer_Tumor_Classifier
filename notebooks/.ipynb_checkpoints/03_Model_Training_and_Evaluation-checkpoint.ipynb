{
 "cells": [
  {
   "cell_type": "markdown",
   "id": "d6fbe6be-66a4-4e91-8b8d-3fe83de43535",
   "metadata": {},
   "source": [
    "##  Data Preprocessing – Feature Preparation for Modeling\n",
    "\n",
    "Before training any machine learning model, we need to **prepare the dataset** by separating features and labels, splitting into training and test sets, and scaling the feature values. These steps ensure that our model can learn effectively and generalize well to unseen data.\n",
    "\n",
    "---\n",
    "\n",
    "### Preprocessing Workflow\n",
    "\n",
    "1. **Load dataset**  \n",
    "   Read the cancer classification CSV file.\n",
    "\n",
    "2. **Separate features and target variable**  \n",
    "   - `X` = All input features  \n",
    "   - `y` = Target label (`benign_0__mal_1`)\n",
    "\n",
    "3. **Split data into train and test sets**  \n",
    "   - Use `train_test_split()` from `sklearn.model_selection`  \n",
    "   - Stratify to maintain class proportions\n",
    "\n",
    "4. **Apply feature scaling**  \n",
    "   - Use `StandardScaler` to normalize feature values to zero mean and unit variance  \n",
    "   - Fit the scaler on the training data and transform both train and test sets\n",
    "\n",
    "\n"
   ]
  },
  {
   "cell_type": "code",
   "execution_count": 6,
   "id": "de59a423-2659-4f60-9741-7ea579770b4f",
   "metadata": {},
   "outputs": [
    {
     "name": "stdout",
     "output_type": "stream",
     "text": [
      "Index(['mean radius', 'mean texture', 'mean perimeter', 'mean area',\n",
      "       'mean smoothness', 'mean compactness', 'mean concavity',\n",
      "       'mean concave points', 'mean symmetry', 'mean fractal dimension',\n",
      "       'radius error', 'texture error', 'perimeter error', 'area error',\n",
      "       'smoothness error', 'compactness error', 'concavity error',\n",
      "       'concave points error', 'symmetry error', 'fractal dimension error',\n",
      "       'worst radius', 'worst texture', 'worst perimeter', 'worst area',\n",
      "       'worst smoothness', 'worst compactness', 'worst concavity',\n",
      "       'worst concave points', 'worst symmetry', 'worst fractal dimension',\n",
      "       'benign_0__mal_1'],\n",
      "      dtype='object')\n"
     ]
    },
    {
     "data": {
      "text/plain": [
       "['models/classifier.pkl']"
      ]
     },
     "execution_count": 6,
     "metadata": {},
     "output_type": "execute_result"
    }
   ],
   "source": [
    "print(df.columns)\n",
    "# Create directory if it doesn't exist\n",
    "import os\n",
    "os.makedirs(\"models\", exist_ok=True)\n",
    "\n",
    "# Save the model\n",
    "import joblib\n",
    "joblib.dump(model, \"models/classifier.pkl\")\n"
   ]
  },
  {
   "cell_type": "code",
   "execution_count": 7,
   "id": "c8b7285b-42f0-4271-9165-6a85bb1b15a7",
   "metadata": {},
   "outputs": [
    {
     "data": {
      "text/plain": [
       "['models/classifier.pkl']"
      ]
     },
     "execution_count": 7,
     "metadata": {},
     "output_type": "execute_result"
    }
   ],
   "source": [
    "import pandas as pd\n",
    "# Load data\n",
    "df = pd.read_csv(\"C:/Users/sanja/1. Breast_Cancer_Tumor_Classifier/1.Breast_Cancer_Tumor_Classifier/data/raw/cancer_classification.csv\")\n",
    "\n",
    "# Select input features and target\n",
    "selected_features = ['mean radius', 'mean texture', 'mean perimeter', 'mean area', 'mean smoothness']\n",
    "X = df[selected_features]\n",
    "y = df['benign_0__mal_1']\n",
    "\n",
    "# Train Random Forest without scaling\n",
    "from sklearn.ensemble import RandomForestClassifier\n",
    "model = RandomForestClassifier(random_state=42)\n",
    "model.fit(X, y)\n",
    "\n",
    "# Save the model\n",
    "import joblib\n",
    "joblib.dump(model, 'models/classifier.pkl')\n"
   ]
  },
  {
   "cell_type": "code",
   "execution_count": null,
   "id": "0fd3ec2d-377e-4538-9ac8-9d84a5143397",
   "metadata": {},
   "outputs": [],
   "source": []
  }
 ],
 "metadata": {
  "kernelspec": {
   "display_name": "Python 3 (ipykernel)",
   "language": "python",
   "name": "python3"
  },
  "language_info": {
   "codemirror_mode": {
    "name": "ipython",
    "version": 3
   },
   "file_extension": ".py",
   "mimetype": "text/x-python",
   "name": "python",
   "nbconvert_exporter": "python",
   "pygments_lexer": "ipython3",
   "version": "3.11.0"
  }
 },
 "nbformat": 4,
 "nbformat_minor": 5
}
